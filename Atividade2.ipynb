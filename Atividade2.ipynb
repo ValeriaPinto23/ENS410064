{
 "cells": [
  {
   "cell_type": "markdown",
   "id": "639b14d7-7d49-46d0-9081-c2fd91881431",
   "metadata": {},
   "source": [
    "In [1]: import pandas as pd\n"
   ]
  },
  {
   "cell_type": "code",
   "execution_count": null,
   "id": "4e6b6573-f62b-4a88-9d15-c3b38474a8e1",
   "metadata": {},
   "outputs": [],
   "source": []
  }
 ],
 "metadata": {
  "kernelspec": {
   "display_name": "Python 3 (ipykernel)",
   "language": "python",
   "name": "python3"
  },
  "language_info": {
   "codemirror_mode": {
    "name": "ipython",
    "version": 3
   },
   "file_extension": ".py",
   "mimetype": "text/x-python",
   "name": "python",
   "nbconvert_exporter": "python",
   "pygments_lexer": "ipython3",
   "version": "3.11.8"
  }
 },
 "nbformat": 4,
 "nbformat_minor": 5
}
